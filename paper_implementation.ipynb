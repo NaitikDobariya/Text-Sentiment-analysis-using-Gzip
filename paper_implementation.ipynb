{
 "cells": [
  {
   "cell_type": "markdown",
   "metadata": {},
   "source": [
    "# Gzip is all you need"
   ]
  },
  {
   "cell_type": "code",
   "execution_count": 24,
   "metadata": {},
   "outputs": [],
   "source": [
    "import gzip\n",
    "from sklearn.neighbors import KNeighborsClassifier\n",
    "from sklearn.svm import NuSVC\n",
    "from sklearn.tree import DecisionTreeClassifier, ExtraTreeClassifier\n",
    "from sklearn.ensemble import RandomForestClassifier\n",
    "import pandas as pd\n",
    "import numpy as np"
   ]
  },
  {
   "cell_type": "markdown",
   "metadata": {},
   "source": [
    "### Reading the data"
   ]
  },
  {
   "cell_type": "code",
   "execution_count": 2,
   "metadata": {},
   "outputs": [
    {
     "data": {
      "text/html": [
       "<div>\n",
       "<style scoped>\n",
       "    .dataframe tbody tr th:only-of-type {\n",
       "        vertical-align: middle;\n",
       "    }\n",
       "\n",
       "    .dataframe tbody tr th {\n",
       "        vertical-align: top;\n",
       "    }\n",
       "\n",
       "    .dataframe thead th {\n",
       "        text-align: right;\n",
       "    }\n",
       "</style>\n",
       "<table border=\"1\" class=\"dataframe\">\n",
       "  <thead>\n",
       "    <tr style=\"text-align: right;\">\n",
       "      <th></th>\n",
       "      <th>text</th>\n",
       "      <th>labels</th>\n",
       "    </tr>\n",
       "  </thead>\n",
       "  <tbody>\n",
       "    <tr>\n",
       "      <th>763</th>\n",
       "      <td>This particular model would not work with my M...</td>\n",
       "      <td>0</td>\n",
       "    </tr>\n",
       "    <tr>\n",
       "      <th>397</th>\n",
       "      <td>Great product and price.</td>\n",
       "      <td>1</td>\n",
       "    </tr>\n",
       "    <tr>\n",
       "      <th>2109</th>\n",
       "      <td>Sooooo good!!</td>\n",
       "      <td>1</td>\n",
       "    </tr>\n",
       "    <tr>\n",
       "      <th>386</th>\n",
       "      <td>Poor sound quality.</td>\n",
       "      <td>0</td>\n",
       "    </tr>\n",
       "    <tr>\n",
       "      <th>1657</th>\n",
       "      <td>Macbeth (Jason Connery) moved me to tears with...</td>\n",
       "      <td>1</td>\n",
       "    </tr>\n",
       "  </tbody>\n",
       "</table>\n",
       "</div>"
      ],
      "text/plain": [
       "                                                   text  labels\n",
       "763   This particular model would not work with my M...       0\n",
       "397                            Great product and price.       1\n",
       "2109                                      Sooooo good!!       1\n",
       "386                                 Poor sound quality.       0\n",
       "1657  Macbeth (Jason Connery) moved me to tears with...       1"
      ]
     },
     "execution_count": 2,
     "metadata": {},
     "output_type": "execute_result"
    }
   ],
   "source": [
    "data = pd.read_csv(r\"C:\\Users\\123na\\Downloads\\Gzip_is_all_you_need\\combined_reviews.csv\")\n",
    "data = data.sample(n = len(data))\n",
    "data.drop(labels = [\"source\"], axis = 1, inplace = True)\n",
    "\n",
    "data.head()"
   ]
  },
  {
   "cell_type": "code",
   "execution_count": 3,
   "metadata": {},
   "outputs": [],
   "source": [
    "train_x, train_y, test_x, test_y = data[\"text\"].values[:int(0.8*len(data))], data[\"labels\"].values[:int(0.8*len(data))], data[\"text\"].values[int(0.8*len(data)):], data[\"labels\"].values[int(0.8*len(data)):]"
   ]
  },
  {
   "cell_type": "code",
   "execution_count": 4,
   "metadata": {},
   "outputs": [
    {
     "name": "stdout",
     "output_type": "stream",
     "text": [
      "The text is : This movie suffered because of the writing, it needed more suspense.   \n",
      "The corresponding label is : 0 \n",
      "\n",
      "\n",
      "The text is : They also have the best cheese crisp in town. \n",
      "The corresponding label is : 1 \n",
      "\n",
      "\n",
      "The text is : Full of unconvincing cardboard characters it is blandly written by Edward Chodorov, who also produced, and is surprisingly directed by Jean Negulesco from whom one would expect a great deal more.   \n",
      "The corresponding label is : 0 \n",
      "\n",
      "\n",
      "The text is : All three broke within two months of use. \n",
      "The corresponding label is : 0 \n",
      "\n",
      "\n",
      "The text is : I really like this product over the Motorola because it is allot clearer on the ear piece and the mic. \n",
      "The corresponding label is : 1 \n",
      "\n",
      "\n"
     ]
    }
   ],
   "source": [
    "for _ in range(5):\n",
    "    idx = np.random.randint(0, 500)\n",
    "    print(f\"The text is : {train_x[idx]} \\nThe corresponding label is : {train_y[idx]} \\n\\n\")"
   ]
  },
  {
   "cell_type": "markdown",
   "metadata": {},
   "source": [
    "### Compressing the data using Gzip and creating NCD distances"
   ]
  },
  {
   "cell_type": "code",
   "execution_count": 5,
   "metadata": {},
   "outputs": [],
   "source": [
    "# NCD function\n",
    "def NCD(string1, string2):\n",
    "    x1 = len(gzip.compress(string1.encode()))\n",
    "    x2 = len(gzip.compress(string2.encode()))\n",
    "    x1_x2 = len(gzip.compress((string1 + string2).encode()))\n",
    "    return (x1_x2 - min(x1, x2))/(max(x1, x2))"
   ]
  },
  {
   "cell_type": "code",
   "execution_count": 6,
   "metadata": {},
   "outputs": [],
   "source": [
    "train_ncd = [[NCD(i, j) for j in train_x] for i in train_x]"
   ]
  },
  {
   "cell_type": "code",
   "execution_count": 7,
   "metadata": {},
   "outputs": [],
   "source": [
    "test_ncd = [[NCD(i, j) for j in train_x] for i in test_x]"
   ]
  },
  {
   "cell_type": "markdown",
   "metadata": {},
   "source": [
    "### Testing various models"
   ]
  },
  {
   "cell_type": "code",
   "execution_count": 10,
   "metadata": {},
   "outputs": [
    {
     "name": "stdout",
     "output_type": "stream",
     "text": [
      "For num_neighbours = 1 \n",
      "The accuracy is 0.560\n",
      "\n",
      "\n",
      "For num_neighbours = 2 \n",
      "The accuracy is 0.598\n",
      "\n",
      "\n",
      "For num_neighbours = 3 \n",
      "The accuracy is 0.603\n",
      "\n",
      "\n",
      "For num_neighbours = 4 \n",
      "The accuracy is 0.608\n",
      "\n",
      "\n",
      "For num_neighbours = 5 \n",
      "The accuracy is 0.602\n",
      "\n",
      "\n",
      "For num_neighbours = 6 \n",
      "The accuracy is 0.602\n",
      "\n",
      "\n",
      "For num_neighbours = 7 \n",
      "The accuracy is 0.603\n",
      "\n",
      "\n",
      "For num_neighbours = 8 \n",
      "The accuracy is 0.582\n",
      "\n",
      "\n",
      "For num_neighbours = 9 \n",
      "The accuracy is 0.568\n",
      "\n",
      "\n",
      "For num_neighbours = 10 \n",
      "The accuracy is 0.575\n",
      "\n",
      "\n"
     ]
    }
   ],
   "source": [
    "model_list_knn = []\n",
    "accuracies_knn = []\n",
    "for i in range(10):\n",
    "    model = KNeighborsClassifier(n_neighbors = i + 1)\n",
    "    model.fit(train_ncd, train_y)\n",
    "    score = model.score(test_ncd, test_y)\n",
    "    accuracies_knn.append(score)\n",
    "    model_list_knn.append(model)\n",
    "    print(f\"For num_neighbours = {i + 1} \\nThe accuracy is {score:.3f}\\n\\n\")"
   ]
  },
  {
   "cell_type": "code",
   "execution_count": 12,
   "metadata": {},
   "outputs": [
    {
     "name": "stdout",
     "output_type": "stream",
     "text": [
      "For degree = 1 \n",
      "The accuracy is 0.733\n",
      "\n",
      "\n",
      "For degree = 2 \n",
      "The accuracy is 0.742\n",
      "\n",
      "\n",
      "For degree = 3 \n",
      "The accuracy is 0.740\n",
      "\n",
      "\n",
      "For degree = 4 \n",
      "The accuracy is 0.735\n",
      "\n",
      "\n",
      "For degree = 5 \n",
      "The accuracy is 0.733\n",
      "\n",
      "\n"
     ]
    }
   ],
   "source": [
    "model_list_nuSVC_poly = []\n",
    "accuracies_svm_poly = []\n",
    "for i in range(5):\n",
    "    model = NuSVC(kernel = 'poly', degree = i + 1)\n",
    "    model.fit(train_ncd, train_y)\n",
    "    score = model.score(test_ncd, test_y)\n",
    "    accuracies_svm_poly.append(score)\n",
    "    model_list_nuSVC_poly.append(model)\n",
    "    print(f\"For degree = {i + 1} \\nThe accuracy is {score:.3f}\\n\\n\")"
   ]
  },
  {
   "cell_type": "code",
   "execution_count": 26,
   "metadata": {},
   "outputs": [
    {
     "name": "stdout",
     "output_type": "stream",
     "text": [
      "For depth = 1 \n",
      "The accuracy is 0.532\n",
      "\n",
      "\n",
      "For depth = 2 \n",
      "The accuracy is 0.512\n",
      "\n",
      "\n",
      "For depth = 3 \n",
      "The accuracy is 0.557\n",
      "\n",
      "\n",
      "For depth = 4 \n",
      "The accuracy is 0.565\n",
      "\n",
      "\n",
      "For depth = 5 \n",
      "The accuracy is 0.555\n",
      "\n",
      "\n",
      "For depth = 6 \n",
      "The accuracy is 0.532\n",
      "\n",
      "\n",
      "For depth = 7 \n",
      "The accuracy is 0.535\n",
      "\n",
      "\n",
      "For depth = 8 \n",
      "The accuracy is 0.523\n",
      "\n",
      "\n",
      "For depth = 9 \n",
      "The accuracy is 0.503\n",
      "\n",
      "\n",
      "For depth = 10 \n",
      "The accuracy is 0.540\n",
      "\n",
      "\n"
     ]
    }
   ],
   "source": [
    "model_list_tree = []\n",
    "accuracies_tree = []\n",
    "for i in range(10):\n",
    "    model = ExtraTreeClassifier(max_depth = i + 5)\n",
    "    model.fit(train_ncd, train_y)\n",
    "    score = model.score(test_ncd, test_y)\n",
    "    accuracies_tree.append(score)\n",
    "    model_list_tree.append(model)\n",
    "    print(f\"For depth = {i + 1} \\nThe accuracy is {score:.3f}\\n\\n\")"
   ]
  },
  {
   "cell_type": "code",
   "execution_count": 25,
   "metadata": {},
   "outputs": [
    {
     "name": "stdout",
     "output_type": "stream",
     "text": [
      "For depth = 1 \n",
      "The accuracy is 0.538\n",
      "\n",
      "\n",
      "For depth = 2 \n",
      "The accuracy is 0.597\n",
      "\n",
      "\n",
      "For depth = 3 \n",
      "The accuracy is 0.608\n",
      "\n",
      "\n",
      "For depth = 4 \n",
      "The accuracy is 0.627\n",
      "\n",
      "\n",
      "For depth = 5 \n",
      "The accuracy is 0.640\n",
      "\n",
      "\n",
      "For depth = 6 \n",
      "The accuracy is 0.622\n",
      "\n",
      "\n",
      "For depth = 7 \n",
      "The accuracy is 0.623\n",
      "\n",
      "\n",
      "For depth = 8 \n",
      "The accuracy is 0.632\n",
      "\n",
      "\n",
      "For depth = 9 \n",
      "The accuracy is 0.635\n",
      "\n",
      "\n",
      "For depth = 10 \n",
      "The accuracy is 0.643\n",
      "\n",
      "\n"
     ]
    }
   ],
   "source": [
    "model_list_forest = []\n",
    "accuracies_forest = []\n",
    "for i in range(10):\n",
    "    model = RandomForestClassifier(max_depth = i + 1, n_estimators = 100)\n",
    "    model.fit(train_ncd, train_y)\n",
    "    score = model.score(test_ncd, test_y)\n",
    "    accuracies_forest.append(score)\n",
    "    model_list_forest.append(model)\n",
    "    print(f\"For depth = {i + 1} \\nThe accuracy is {score:.3f}\\n\\n\")"
   ]
  }
 ],
 "metadata": {
  "kernelspec": {
   "display_name": "Python 3",
   "language": "python",
   "name": "python3"
  },
  "language_info": {
   "codemirror_mode": {
    "name": "ipython",
    "version": 3
   },
   "file_extension": ".py",
   "mimetype": "text/x-python",
   "name": "python",
   "nbconvert_exporter": "python",
   "pygments_lexer": "ipython3",
   "version": "3.10.5"
  },
  "orig_nbformat": 4
 },
 "nbformat": 4,
 "nbformat_minor": 2
}
